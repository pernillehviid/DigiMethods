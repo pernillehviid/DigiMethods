{
 "cells": [
  {
   "cell_type": "markdown",
   "metadata": {},
   "source": [
    "# Exercise W6D1: Data Analysis Tools I - Pandas \n",
    "\n",
    "## 6.1.1 Data Wrangling and Visualizing"
   ]
  },
  {
   "cell_type": "markdown",
   "metadata": {},
   "source": [
    "**Exercise 6.1.1.1** Read in the dataset \"nchs_death_causes.csv\" using `pandas` methods."
   ]
  },
  {
   "cell_type": "code",
   "execution_count": 1,
   "metadata": {},
   "outputs": [],
   "source": [
    "import pandas as pd"
   ]
  },
  {
   "cell_type": "code",
   "execution_count": 2,
   "metadata": {},
   "outputs": [
    {
     "data": {
      "text/html": [
       "<div>\n",
       "<style scoped>\n",
       "    .dataframe tbody tr th:only-of-type {\n",
       "        vertical-align: middle;\n",
       "    }\n",
       "\n",
       "    .dataframe tbody tr th {\n",
       "        vertical-align: top;\n",
       "    }\n",
       "\n",
       "    .dataframe thead th {\n",
       "        text-align: right;\n",
       "    }\n",
       "</style>\n",
       "<table border=\"1\" class=\"dataframe\">\n",
       "  <thead>\n",
       "    <tr style=\"text-align: right;\">\n",
       "      <th></th>\n",
       "      <th>Year</th>\n",
       "      <th>113 Cause Name</th>\n",
       "      <th>Cause Name</th>\n",
       "      <th>State</th>\n",
       "      <th>Deaths</th>\n",
       "      <th>Age-adjusted Death Rate</th>\n",
       "    </tr>\n",
       "  </thead>\n",
       "  <tbody>\n",
       "    <tr>\n",
       "      <td>0</td>\n",
       "      <td>2016</td>\n",
       "      <td>Accidents (unintentional injuries) (V01-X59,Y8...</td>\n",
       "      <td>Unintentional injuries</td>\n",
       "      <td>Alabama</td>\n",
       "      <td>2755</td>\n",
       "      <td>55.5</td>\n",
       "    </tr>\n",
       "    <tr>\n",
       "      <td>1</td>\n",
       "      <td>2016</td>\n",
       "      <td>Accidents (unintentional injuries) (V01-X59,Y8...</td>\n",
       "      <td>Unintentional injuries</td>\n",
       "      <td>Alaska</td>\n",
       "      <td>439</td>\n",
       "      <td>63.1</td>\n",
       "    </tr>\n",
       "    <tr>\n",
       "      <td>2</td>\n",
       "      <td>2016</td>\n",
       "      <td>Accidents (unintentional injuries) (V01-X59,Y8...</td>\n",
       "      <td>Unintentional injuries</td>\n",
       "      <td>Arizona</td>\n",
       "      <td>4010</td>\n",
       "      <td>54.2</td>\n",
       "    </tr>\n",
       "    <tr>\n",
       "      <td>3</td>\n",
       "      <td>2016</td>\n",
       "      <td>Accidents (unintentional injuries) (V01-X59,Y8...</td>\n",
       "      <td>Unintentional injuries</td>\n",
       "      <td>Arkansas</td>\n",
       "      <td>1604</td>\n",
       "      <td>51.8</td>\n",
       "    </tr>\n",
       "    <tr>\n",
       "      <td>4</td>\n",
       "      <td>2016</td>\n",
       "      <td>Accidents (unintentional injuries) (V01-X59,Y8...</td>\n",
       "      <td>Unintentional injuries</td>\n",
       "      <td>California</td>\n",
       "      <td>13213</td>\n",
       "      <td>32.0</td>\n",
       "    </tr>\n",
       "    <tr>\n",
       "      <td>...</td>\n",
       "      <td>...</td>\n",
       "      <td>...</td>\n",
       "      <td>...</td>\n",
       "      <td>...</td>\n",
       "      <td>...</td>\n",
       "      <td>...</td>\n",
       "    </tr>\n",
       "    <tr>\n",
       "      <td>10291</td>\n",
       "      <td>1999</td>\n",
       "      <td>Nephritis, nephrotic syndrome and nephrosis (N...</td>\n",
       "      <td>Kidney disease</td>\n",
       "      <td>Virginia</td>\n",
       "      <td>1035</td>\n",
       "      <td>16.9</td>\n",
       "    </tr>\n",
       "    <tr>\n",
       "      <td>10292</td>\n",
       "      <td>1999</td>\n",
       "      <td>Nephritis, nephrotic syndrome and nephrosis (N...</td>\n",
       "      <td>Kidney disease</td>\n",
       "      <td>Washington</td>\n",
       "      <td>278</td>\n",
       "      <td>5.2</td>\n",
       "    </tr>\n",
       "    <tr>\n",
       "      <td>10293</td>\n",
       "      <td>1999</td>\n",
       "      <td>Nephritis, nephrotic syndrome and nephrosis (N...</td>\n",
       "      <td>Kidney disease</td>\n",
       "      <td>West Virginia</td>\n",
       "      <td>345</td>\n",
       "      <td>16.4</td>\n",
       "    </tr>\n",
       "    <tr>\n",
       "      <td>10294</td>\n",
       "      <td>1999</td>\n",
       "      <td>Nephritis, nephrotic syndrome and nephrosis (N...</td>\n",
       "      <td>Kidney disease</td>\n",
       "      <td>Wisconsin</td>\n",
       "      <td>677</td>\n",
       "      <td>11.9</td>\n",
       "    </tr>\n",
       "    <tr>\n",
       "      <td>10295</td>\n",
       "      <td>1999</td>\n",
       "      <td>Nephritis, nephrotic syndrome and nephrosis (N...</td>\n",
       "      <td>Kidney disease</td>\n",
       "      <td>Wyoming</td>\n",
       "      <td>30</td>\n",
       "      <td>6.8</td>\n",
       "    </tr>\n",
       "  </tbody>\n",
       "</table>\n",
       "<p>10296 rows × 6 columns</p>\n",
       "</div>"
      ],
      "text/plain": [
       "       Year                                     113 Cause Name  \\\n",
       "0      2016  Accidents (unintentional injuries) (V01-X59,Y8...   \n",
       "1      2016  Accidents (unintentional injuries) (V01-X59,Y8...   \n",
       "2      2016  Accidents (unintentional injuries) (V01-X59,Y8...   \n",
       "3      2016  Accidents (unintentional injuries) (V01-X59,Y8...   \n",
       "4      2016  Accidents (unintentional injuries) (V01-X59,Y8...   \n",
       "...     ...                                                ...   \n",
       "10291  1999  Nephritis, nephrotic syndrome and nephrosis (N...   \n",
       "10292  1999  Nephritis, nephrotic syndrome and nephrosis (N...   \n",
       "10293  1999  Nephritis, nephrotic syndrome and nephrosis (N...   \n",
       "10294  1999  Nephritis, nephrotic syndrome and nephrosis (N...   \n",
       "10295  1999  Nephritis, nephrotic syndrome and nephrosis (N...   \n",
       "\n",
       "                   Cause Name          State  Deaths  Age-adjusted Death Rate  \n",
       "0      Unintentional injuries        Alabama    2755                     55.5  \n",
       "1      Unintentional injuries         Alaska     439                     63.1  \n",
       "2      Unintentional injuries        Arizona    4010                     54.2  \n",
       "3      Unintentional injuries       Arkansas    1604                     51.8  \n",
       "4      Unintentional injuries     California   13213                     32.0  \n",
       "...                       ...            ...     ...                      ...  \n",
       "10291          Kidney disease       Virginia    1035                     16.9  \n",
       "10292          Kidney disease     Washington     278                      5.2  \n",
       "10293          Kidney disease  West Virginia     345                     16.4  \n",
       "10294          Kidney disease      Wisconsin     677                     11.9  \n",
       "10295          Kidney disease        Wyoming      30                      6.8  \n",
       "\n",
       "[10296 rows x 6 columns]"
      ]
     },
     "execution_count": 2,
     "metadata": {},
     "output_type": "execute_result"
    }
   ],
   "source": [
    "us_deaths_2016 = pd.read_csv('nchs_death_causes.csv')\n",
    "\n",
    "us_deaths_2016"
   ]
  },
  {
   "cell_type": "markdown",
   "metadata": {},
   "source": [
    "**Exercise 6.1.1.2** Make a `DataFrame` that is a subset of the data, containing only one cause of death and one state."
   ]
  },
  {
   "cell_type": "code",
   "execution_count": 3,
   "metadata": {
    "scrolled": true
   },
   "outputs": [
    {
     "data": {
      "text/html": [
       "<div>\n",
       "<style scoped>\n",
       "    .dataframe tbody tr th:only-of-type {\n",
       "        vertical-align: middle;\n",
       "    }\n",
       "\n",
       "    .dataframe tbody tr th {\n",
       "        vertical-align: top;\n",
       "    }\n",
       "\n",
       "    .dataframe thead th {\n",
       "        text-align: right;\n",
       "    }\n",
       "</style>\n",
       "<table border=\"1\" class=\"dataframe\">\n",
       "  <thead>\n",
       "    <tr style=\"text-align: right;\">\n",
       "      <th></th>\n",
       "      <th>Year</th>\n",
       "      <th>113 Cause Name</th>\n",
       "      <th>Cause Name</th>\n",
       "      <th>State</th>\n",
       "      <th>Deaths</th>\n",
       "      <th>Age-adjusted Death Rate</th>\n",
       "    </tr>\n",
       "  </thead>\n",
       "  <tbody>\n",
       "    <tr>\n",
       "      <td>104</td>\n",
       "      <td>2016</td>\n",
       "      <td>Alzheimer's disease (G30)</td>\n",
       "      <td>Alzheimer's disease</td>\n",
       "      <td>Alabama</td>\n",
       "      <td>2507</td>\n",
       "      <td>45.0</td>\n",
       "    </tr>\n",
       "    <tr>\n",
       "      <td>676</td>\n",
       "      <td>2015</td>\n",
       "      <td>Alzheimer's disease (G30)</td>\n",
       "      <td>Alzheimer's disease</td>\n",
       "      <td>Alabama</td>\n",
       "      <td>2282</td>\n",
       "      <td>41.8</td>\n",
       "    </tr>\n",
       "    <tr>\n",
       "      <td>1248</td>\n",
       "      <td>2014</td>\n",
       "      <td>Alzheimer's disease (G30)</td>\n",
       "      <td>Alzheimer's disease</td>\n",
       "      <td>Alabama</td>\n",
       "      <td>1885</td>\n",
       "      <td>35.3</td>\n",
       "    </tr>\n",
       "    <tr>\n",
       "      <td>1820</td>\n",
       "      <td>2013</td>\n",
       "      <td>Alzheimer's disease (G30)</td>\n",
       "      <td>Alzheimer's disease</td>\n",
       "      <td>Alabama</td>\n",
       "      <td>1398</td>\n",
       "      <td>26.7</td>\n",
       "    </tr>\n",
       "    <tr>\n",
       "      <td>2392</td>\n",
       "      <td>2012</td>\n",
       "      <td>Alzheimer's disease (G30)</td>\n",
       "      <td>Alzheimer's disease</td>\n",
       "      <td>Alabama</td>\n",
       "      <td>1390</td>\n",
       "      <td>27.2</td>\n",
       "    </tr>\n",
       "    <tr>\n",
       "      <td>2964</td>\n",
       "      <td>2011</td>\n",
       "      <td>Alzheimer's disease (G30)</td>\n",
       "      <td>Alzheimer's disease</td>\n",
       "      <td>Alabama</td>\n",
       "      <td>1486</td>\n",
       "      <td>29.7</td>\n",
       "    </tr>\n",
       "    <tr>\n",
       "      <td>3536</td>\n",
       "      <td>2010</td>\n",
       "      <td>Alzheimer's disease (G30)</td>\n",
       "      <td>Alzheimer's disease</td>\n",
       "      <td>Alabama</td>\n",
       "      <td>1523</td>\n",
       "      <td>31.2</td>\n",
       "    </tr>\n",
       "    <tr>\n",
       "      <td>4108</td>\n",
       "      <td>2009</td>\n",
       "      <td>Alzheimer's disease (G30)</td>\n",
       "      <td>Alzheimer's disease</td>\n",
       "      <td>Alabama</td>\n",
       "      <td>1521</td>\n",
       "      <td>31.6</td>\n",
       "    </tr>\n",
       "    <tr>\n",
       "      <td>4680</td>\n",
       "      <td>2008</td>\n",
       "      <td>Alzheimer's disease (G30)</td>\n",
       "      <td>Alzheimer's disease</td>\n",
       "      <td>Alabama</td>\n",
       "      <td>1518</td>\n",
       "      <td>32.1</td>\n",
       "    </tr>\n",
       "    <tr>\n",
       "      <td>5252</td>\n",
       "      <td>2007</td>\n",
       "      <td>Alzheimer's disease (G30)</td>\n",
       "      <td>Alzheimer's disease</td>\n",
       "      <td>Alabama</td>\n",
       "      <td>1517</td>\n",
       "      <td>32.6</td>\n",
       "    </tr>\n",
       "    <tr>\n",
       "      <td>5824</td>\n",
       "      <td>2006</td>\n",
       "      <td>Alzheimer's disease (G30)</td>\n",
       "      <td>Alzheimer's disease</td>\n",
       "      <td>Alabama</td>\n",
       "      <td>1497</td>\n",
       "      <td>32.7</td>\n",
       "    </tr>\n",
       "    <tr>\n",
       "      <td>6396</td>\n",
       "      <td>2005</td>\n",
       "      <td>Alzheimer's disease (G30)</td>\n",
       "      <td>Alzheimer's disease</td>\n",
       "      <td>Alabama</td>\n",
       "      <td>1501</td>\n",
       "      <td>33.4</td>\n",
       "    </tr>\n",
       "    <tr>\n",
       "      <td>6968</td>\n",
       "      <td>2004</td>\n",
       "      <td>Alzheimer's disease (G30)</td>\n",
       "      <td>Alzheimer's disease</td>\n",
       "      <td>Alabama</td>\n",
       "      <td>1385</td>\n",
       "      <td>31.4</td>\n",
       "    </tr>\n",
       "    <tr>\n",
       "      <td>7540</td>\n",
       "      <td>2003</td>\n",
       "      <td>Alzheimer's disease (G30)</td>\n",
       "      <td>Alzheimer's disease</td>\n",
       "      <td>Alabama</td>\n",
       "      <td>1268</td>\n",
       "      <td>28.8</td>\n",
       "    </tr>\n",
       "    <tr>\n",
       "      <td>8112</td>\n",
       "      <td>2002</td>\n",
       "      <td>Alzheimer's disease (G30)</td>\n",
       "      <td>Alzheimer's disease</td>\n",
       "      <td>Alabama</td>\n",
       "      <td>1189</td>\n",
       "      <td>27.0</td>\n",
       "    </tr>\n",
       "    <tr>\n",
       "      <td>8684</td>\n",
       "      <td>2001</td>\n",
       "      <td>Alzheimer's disease (G30)</td>\n",
       "      <td>Alzheimer's disease</td>\n",
       "      <td>Alabama</td>\n",
       "      <td>1103</td>\n",
       "      <td>25.1</td>\n",
       "    </tr>\n",
       "    <tr>\n",
       "      <td>9256</td>\n",
       "      <td>2000</td>\n",
       "      <td>Alzheimer's disease (G30)</td>\n",
       "      <td>Alzheimer's disease</td>\n",
       "      <td>Alabama</td>\n",
       "      <td>895</td>\n",
       "      <td>20.4</td>\n",
       "    </tr>\n",
       "    <tr>\n",
       "      <td>9828</td>\n",
       "      <td>1999</td>\n",
       "      <td>Alzheimer's disease (G30)</td>\n",
       "      <td>Alzheimer's disease</td>\n",
       "      <td>Alabama</td>\n",
       "      <td>772</td>\n",
       "      <td>17.8</td>\n",
       "    </tr>\n",
       "  </tbody>\n",
       "</table>\n",
       "</div>"
      ],
      "text/plain": [
       "      Year             113 Cause Name           Cause Name    State  Deaths  \\\n",
       "104   2016  Alzheimer's disease (G30)  Alzheimer's disease  Alabama    2507   \n",
       "676   2015  Alzheimer's disease (G30)  Alzheimer's disease  Alabama    2282   \n",
       "1248  2014  Alzheimer's disease (G30)  Alzheimer's disease  Alabama    1885   \n",
       "1820  2013  Alzheimer's disease (G30)  Alzheimer's disease  Alabama    1398   \n",
       "2392  2012  Alzheimer's disease (G30)  Alzheimer's disease  Alabama    1390   \n",
       "2964  2011  Alzheimer's disease (G30)  Alzheimer's disease  Alabama    1486   \n",
       "3536  2010  Alzheimer's disease (G30)  Alzheimer's disease  Alabama    1523   \n",
       "4108  2009  Alzheimer's disease (G30)  Alzheimer's disease  Alabama    1521   \n",
       "4680  2008  Alzheimer's disease (G30)  Alzheimer's disease  Alabama    1518   \n",
       "5252  2007  Alzheimer's disease (G30)  Alzheimer's disease  Alabama    1517   \n",
       "5824  2006  Alzheimer's disease (G30)  Alzheimer's disease  Alabama    1497   \n",
       "6396  2005  Alzheimer's disease (G30)  Alzheimer's disease  Alabama    1501   \n",
       "6968  2004  Alzheimer's disease (G30)  Alzheimer's disease  Alabama    1385   \n",
       "7540  2003  Alzheimer's disease (G30)  Alzheimer's disease  Alabama    1268   \n",
       "8112  2002  Alzheimer's disease (G30)  Alzheimer's disease  Alabama    1189   \n",
       "8684  2001  Alzheimer's disease (G30)  Alzheimer's disease  Alabama    1103   \n",
       "9256  2000  Alzheimer's disease (G30)  Alzheimer's disease  Alabama     895   \n",
       "9828  1999  Alzheimer's disease (G30)  Alzheimer's disease  Alabama     772   \n",
       "\n",
       "      Age-adjusted Death Rate  \n",
       "104                      45.0  \n",
       "676                      41.8  \n",
       "1248                     35.3  \n",
       "1820                     26.7  \n",
       "2392                     27.2  \n",
       "2964                     29.7  \n",
       "3536                     31.2  \n",
       "4108                     31.6  \n",
       "4680                     32.1  \n",
       "5252                     32.6  \n",
       "5824                     32.7  \n",
       "6396                     33.4  \n",
       "6968                     31.4  \n",
       "7540                     28.8  \n",
       "8112                     27.0  \n",
       "8684                     25.1  \n",
       "9256                     20.4  \n",
       "9828                     17.8  "
      ]
     },
     "execution_count": 3,
     "metadata": {},
     "output_type": "execute_result"
    }
   ],
   "source": [
    "alabama_alzheimers_deaths = us_deaths_2016[(us_deaths_2016[\"Cause Name\"] == \"Alzheimer's disease\") & \n",
    "                                           (us_deaths_2016[\"State\"] == \"Alabama\")]\n",
    "\n",
    "alabama_alzheimers_deaths"
   ]
  },
  {
   "cell_type": "markdown",
   "metadata": {},
   "source": [
    "**Exercise 6.1.1.3** Plot a line graph that shows the development of the death rate over time. Pay attention to whether your plot is intuitive."
   ]
  },
  {
   "cell_type": "code",
   "execution_count": 4,
   "metadata": {},
   "outputs": [],
   "source": [
    "import matplotlib.pyplot as plt"
   ]
  },
  {
   "cell_type": "code",
   "execution_count": 5,
   "metadata": {},
   "outputs": [
    {
     "data": {
      "text/plain": [
       "[<matplotlib.lines.Line2D at 0x124543590>]"
      ]
     },
     "execution_count": 5,
     "metadata": {},
     "output_type": "execute_result"
    },
    {
     "data": {
      "image/png": "[encoded data removed]",
      "text/plain": [
       "<Figure size 432x288 with 1 Axes>"
      ]
     },
     "metadata": {
      "needs_background": "light"
     },
     "output_type": "display_data"
    }
   ],
   "source": [
    "alabama_alzheimers_deaths_series = alabama_alzheimers_deaths['Age-adjusted Death Rate']\n",
    "alabama_alzheimers_deaths_series.index = alabama_alzheimers_deaths['Year']\n",
    "\n",
    "plt.plot(alabama_alzheimers_deaths_series)"
   ]
  },
  {
   "cell_type": "markdown",
   "metadata": {},
   "source": [
    "**Exercise 6.1.1.4** Make your figure self-contained and export it/save it to your machine."
   ]
  },
  {
   "cell_type": "code",
   "execution_count": 6,
   "metadata": {
    "scrolled": false
   },
   "outputs": [
    {
     "data": {
      "image/png": "[encoded data removed]",
      "text/plain": [
       "<Figure size 1200x840 with 1 Axes>"
      ]
     },
     "metadata": {
      "needs_background": "light"
     },
     "output_type": "display_data"
    }
   ],
   "source": [
    "plt.figure(figsize=(10, 7), dpi= 120)\n",
    "\n",
    "plt.plot(alabama_alzheimers_deaths_series)\n",
    "\n",
    "plt.title(\"Graph to show Alabama Alzheimer's death rates by year\")\n",
    "plt.xlabel(\"Year\")\n",
    "plt.ylabel(\"Deaths per 100,000\")\n",
    "plt.xticks(range(1999, 1999+len(alabama_alzheimers_deaths_series)), \n",
    "           alabama_alzheimers_deaths['Year'].tolist().reverse(), rotation = 90)\n",
    "\n",
    "plt.savefig(\"Alzheimer_Deaths_Alabama.png\")"
   ]
  },
  {
   "cell_type": "markdown",
   "metadata": {},
   "source": [
    "**Exercise 6.1.1.5** Make a `DataFrame` that is a subset of the data, containing _two_ causes of death that might be interesting to compare for one state."
   ]
  },
  {
   "cell_type": "markdown",
   "metadata": {},
   "source": [
    "**Exercise 6.1.1.6** Create a _self-contained_ scatter plot that compares the two causes of death in the state."
   ]
  },
  {
   "cell_type": "markdown",
   "metadata": {},
   "source": [
    "**Exercise 6.1.1.7** Make a `DataFrame` that is a subset of the data, containing data for only one year and one state."
   ]
  },
  {
   "cell_type": "markdown",
   "metadata": {},
   "source": [
    "**Exercise 6.1.1.8** Create a  _self-contained_ bar graph showing the death rate across causes of death in your subset of the data."
   ]
  },
  {
   "cell_type": "markdown",
   "metadata": {},
   "source": [
    "**Exercise 6.1.1.9** Interpret your bar graph."
   ]
  },
  {
   "cell_type": "markdown",
   "metadata": {},
   "source": [
    "## _If You Have Time_ Follow Your Interests "
   ]
  },
  {
   "cell_type": "markdown",
   "metadata": {},
   "source": [
    "**6.1.2.1** Think about the different data sources you have been using so far. Identify one source of data you were particularly interested in, get the data, think about what might be interesting to explore visually and plot it. Remember that there is an entire [Dataverse](https://dataverse.harvard.edu/) out there that you can draw on, which you can now easily import using the `pandas` functionality."
   ]
  }
 ],
 "metadata": {
  "kernelspec": {
   "display_name": "Python 3",
   "language": "python",
   "name": "python3"
  },
  "language_info": {
   "codemirror_mode": {
    "name": "ipython",
    "version": 3
   },
   "file_extension": ".py",
   "mimetype": "text/x-python",
   "name": "python",
   "nbconvert_exporter": "python",
   "pygments_lexer": "ipython3",
   "version": "3.7.4"
  }
 },
 "nbformat": 4,
 "nbformat_minor": 2
}
