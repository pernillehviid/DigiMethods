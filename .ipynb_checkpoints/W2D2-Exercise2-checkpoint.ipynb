{
 "cells": [
  {
   "cell_type": "markdown",
   "metadata": {},
   "source": [
    "# Exercise 2: Basic Python 2\n",
    "\n",
    "Builds on exercises provided with Programming with Python for Social Science by Phillip Brooker and from Social Data Science 2019 by Andreas Bjerre-Nielson\n",
    "\n",
    "## 2.1 Lists\n",
    "\n",
    "**Question 2.1.1**: make two lists, `mammals` and `reptiles`with respectively \"dog\",\"cat\",\"dolphin\" and \"gecko\",\"monitor lizard\",\"iguana\". What is the index of \"iguana\" in `reptiles`?"
   ]
  },
  {
   "cell_type": "code",
   "execution_count": 28,
   "metadata": {},
   "outputs": [
    {
     "data": {
      "text/plain": [
       "'iguana'"
      ]
     },
     "execution_count": 28,
     "metadata": {},
     "output_type": "execute_result"
    }
   ],
   "source": [
    "#Answer to question 2.1.1\n",
    "#Create list\n",
    "mammals = ['dog', 'cat', 'dolphin']\n",
    "reptiles = ['gecko', 'monitor lizard', 'iguana']\n",
    "#what is the index of iguana\n",
    "reptiles[2]\n"
   ]
  },
  {
   "cell_type": "markdown",
   "metadata": {},
   "source": [
    "**Question 2.1.2**: make a list `animals` which consist of first `mammals`, then `reptiles`. \n",
    "Hint: See what happens when you `+` two lists together. "
   ]
  },
  {
   "cell_type": "code",
   "execution_count": 29,
   "metadata": {},
   "outputs": [
    {
     "name": "stdout",
     "output_type": "stream",
     "text": [
      "['dog', 'cat', 'dolphin', 'gecko', 'monitor lizard', 'iguana']\n"
     ]
    }
   ],
   "source": [
    "#Answer to question 2.1.2\n",
    "animals = mammals + reptiles\n",
    "print(animals)"
   ]
  },
  {
   "cell_type": "markdown",
   "metadata": {},
   "source": [
    "**Question 2.1.3**: Create list `some_reptiles` that contains only the second and third elements of `reptiles`. "
   ]
  },
  {
   "cell_type": "code",
   "execution_count": 30,
   "metadata": {},
   "outputs": [
    {
     "name": "stdout",
     "output_type": "stream",
     "text": [
      "['monitor lizard', 'iguana']\n"
     ]
    }
   ],
   "source": [
    "#Answer to question 2.1.3\n",
    "some_reptiles = reptiles[1:3]\n",
    "print(some_reptiles)"
   ]
  },
  {
   "cell_type": "markdown",
   "metadata": {},
   "source": [
    "**Question 2.1.4**: replace the second element of `reptiles` with \"komodo dragon\". What are the values of `some_reptiles` now?"
   ]
  },
  {
   "cell_type": "code",
   "execution_count": 31,
   "metadata": {
    "scrolled": true
   },
   "outputs": [],
   "source": [
    "#Answer to question 2.1.4\n",
    "#fjern:\n",
    "reptiles.remove('monitor lizard')"
   ]
  },
  {
   "cell_type": "code",
   "execution_count": 33,
   "metadata": {},
   "outputs": [],
   "source": [
    "#tilføj\n",
    "reptiles.append('komodo dragon')"
   ]
  },
  {
   "cell_type": "code",
   "execution_count": 34,
   "metadata": {
    "scrolled": true
   },
   "outputs": [
    {
     "name": "stdout",
     "output_type": "stream",
     "text": [
      "['gecko', 'iguana', 'komodo dragon']\n"
     ]
    }
   ],
   "source": [
    "print(reptiles)"
   ]
  },
  {
   "cell_type": "markdown",
   "metadata": {},
   "source": [
    "**Question 2.1.5**: Create a list `animals2` that contains nested lists `mammals` and `reptiles`. How would you access the element \"dolphin\"?"
   ]
  },
  {
   "cell_type": "code",
   "execution_count": 36,
   "metadata": {},
   "outputs": [
    {
     "name": "stdout",
     "output_type": "stream",
     "text": [
      "[['dog', 'cat', 'dolphin'], ['gecko', 'iguana', 'komodo dragon']]\n"
     ]
    }
   ],
   "source": [
    "#Answer to question 2.1.5\n",
    "#enten kan man skabe en tom liste og så tilføje\n",
    "animals2 = []\n",
    "animals2.append(mammals)\n",
    "animals2.append(reptiles)\n",
    "print(animals2)\n",
    "#ELLER MAN KAN OGSÅ \n",
    "animals2=[mammals,reptiles]"
   ]
  },
  {
   "cell_type": "code",
   "execution_count": null,
   "metadata": {},
   "outputs": [],
   "source": []
  },
  {
   "cell_type": "markdown",
   "metadata": {},
   "source": [
    "**Question 2.1.6**: What is the length of `animals` versus `animals2`? Why? "
   ]
  },
  {
   "cell_type": "code",
   "execution_count": 38,
   "metadata": {},
   "outputs": [
    {
     "data": {
      "text/plain": [
       "6"
      ]
     },
     "execution_count": 38,
     "metadata": {},
     "output_type": "execute_result"
    }
   ],
   "source": [
    "#Answer to question 2.1.6\n",
    "len(animals)"
   ]
  },
  {
   "cell_type": "code",
   "execution_count": 39,
   "metadata": {},
   "outputs": [
    {
     "data": {
      "text/plain": [
       "2"
      ]
     },
     "execution_count": 39,
     "metadata": {},
     "output_type": "execute_result"
    }
   ],
   "source": [
    "len(animals2)"
   ]
  },
  {
   "cell_type": "markdown",
   "metadata": {},
   "source": [
    "**Question 2.1.7**: Take the list below (it is the population of Denmark on Jan 1 from 1901 to 2020 in 1000s).\n",
    "\n",
    "How many elements are in the list? \n",
    "\n",
    "What is the range of the first 10 items? \n",
    "\n",
    "What is the range for elements between indices 80 and 90 (i.e. 1981 - 1991)? \n",
    "\n",
    "What was the population in 1904 (Hint: This is the fourth element in the list)"
   ]
  },
  {
   "cell_type": "code",
   "execution_count": 40,
   "metadata": {},
   "outputs": [],
   "source": [
    "#Data from https://www.statbank.dk/10021\n",
    "DK_population =[2447,2477,2506,2532,2560,2589,2621,2652,2687,2722,\n",
    "                2757,2788,2820,2851,2886,2921,2958,2991,3027,3061,\n",
    "                3265,3306,3340,3372,3406,3439,3467,3487,3510,3531,\n",
    "                3557,3590,3620,3651,3683,3711,3738,3765,3794,3826,\n",
    "                3849,3882,3926,3973,4023,4075,4123,4168,4211,4252,\n",
    "                4285,4315,4349,4389,4424,4454,4479,4501,4532,4566,\n",
    "                4601,4630,4666,4703,4741,4779,4820,4855,4879,4907,\n",
    "                4951,4976,5008,5036,5054,5065,5080,5097,5112,5122,\n",
    "                5124,5119,5116,5112,5111,5116,5125,5129,5130,5135,\n",
    "                5146,5162,5181,5197,5216,5251,5275,5295,5314,5330,\n",
    "                5349,5368,5384,5398,5411,5427,5447,5476,5511,5535,\n",
    "                5561,5581,5603,5627,5660,5707,5749,5781,5806,5823]\n",
    "\n",
    "#Answer to Question 2.1.8"
   ]
  },
  {
   "cell_type": "code",
   "execution_count": 41,
   "metadata": {},
   "outputs": [
    {
     "data": {
      "text/plain": [
       "120"
      ]
     },
     "execution_count": 41,
     "metadata": {},
     "output_type": "execute_result"
    }
   ],
   "source": [
    "#Answer to Question 2.1.8 - How many elements are in the list?\n",
    "len(DK_population)"
   ]
  },
  {
   "cell_type": "code",
   "execution_count": 43,
   "metadata": {},
   "outputs": [
    {
     "data": {
      "text/plain": [
       "275"
      ]
     },
     "execution_count": 43,
     "metadata": {},
     "output_type": "execute_result"
    }
   ],
   "source": [
    "#Answer to Question 2.1.8 - What is the range of the first 10 items?\n",
    "max(DK_population[0:10]) - min(DK_population[0:10])"
   ]
  },
  {
   "cell_type": "code",
   "execution_count": 48,
   "metadata": {},
   "outputs": [
    {
     "data": {
      "text/plain": [
       "24"
      ]
     },
     "execution_count": 48,
     "metadata": {},
     "output_type": "execute_result"
    }
   ],
   "source": [
    "#Answer to Question 2.1.8 - What is the range for elements between indices 80 and 90\n",
    "#(i.e. 1981 - 1991)? indice kan oversættes som placeringen\n",
    "#grunden til det er 90 er fordi firkanterne ikke medtager den sidste. Derfor er den første -1\n",
    "#og den sidste er det rigtige tal\n",
    "max(DK_population[79:90]) - min(DK_population[79:90])"
   ]
  },
  {
   "cell_type": "code",
   "execution_count": 50,
   "metadata": {},
   "outputs": [
    {
     "data": {
      "text/plain": [
       "2532"
      ]
     },
     "execution_count": 50,
     "metadata": {},
     "output_type": "execute_result"
    }
   ],
   "source": [
    "#Answer to Question 2.1.8 - What was the population in 1904 \n",
    "#(Hint: This is the fourth element in the list\n",
    "DK_population[3]"
   ]
  },
  {
   "cell_type": "markdown",
   "metadata": {},
   "source": [
    "# 2.2 More Strings\n",
    "\n",
    "**Question 2.2.1**: Let `s1 = 'Chameleon`. From the string `s1` select the last four characters. What is the index of the character `a` in `s1`?\n",
    "\n",
    "*Hint*: We can selecting a substring by slicing it with the `[]` notation, from the start to end where start is included and end is excluded. Recall that Python has zero-based indexing, see explanation [here](https://softwareengineering.stackexchange.com/questions/110804/why-are-zero-based-arrays-the-norm).   "
   ]
  },
  {
   "cell_type": "code",
   "execution_count": 9,
   "metadata": {},
   "outputs": [
    {
     "data": {
      "text/plain": [
       "[]"
      ]
     },
     "execution_count": 9,
     "metadata": {},
     "output_type": "execute_result"
    }
   ],
   "source": [
    "#Answer to question 2.2.1 - TJEK DENNE\n",
    "s1 = ['Chameleon']\n",
    "s1[5:9]"
   ]
  },
  {
   "cell_type": "markdown",
   "metadata": {},
   "source": [
    "**Quesion 2.2.2**: Let `my_url` be a url of your choice. Retrieve the part of a string before a specified character. \n",
    "For example, if your URL is the link for our course: https://kurser.ku.dk/course/aana18119u/2019-2020 and specific character is '/', then you should retrieve https://kurser.ku.dk/course/aana18119u. \n",
    "\n",
    "Remember that you can consult the [documentation for strings](https://docs.python.org/2.5/lib/string-methods.html) to find relevant methods "
   ]
  },
  {
   "cell_type": "code",
   "execution_count": 11,
   "metadata": {},
   "outputs": [
    {
     "data": {
      "text/plain": [
       "['https:', '', 'kurser.ku.dk', 'course', 'aana18119u', '2019-2020']"
      ]
     },
     "execution_count": 11,
     "metadata": {},
     "output_type": "execute_result"
    }
   ],
   "source": [
    "#Answer to question 2.2.2\n",
    "my_url = \"https://kurser.ku.dk/course/aana18119u/2019-2020\"\n",
    "my_url.split('/')"
   ]
  },
  {
   "cell_type": "markdown",
   "metadata": {},
   "source": [
    "## 2.3 Conditions and Loops\n",
    "\n",
    "**Question 2.3.1**: Revisit your script workflow from the previous assignment (Question 1.4.3). For which part of your script would you need to use a loop? What kind of loop would you use?"
   ]
  },
  {
   "cell_type": "code",
   "execution_count": 181,
   "metadata": {},
   "outputs": [],
   "source": [
    "#Answer to question 2.3.1"
   ]
  },
  {
   "cell_type": "markdown",
   "metadata": {},
   "source": [
    "**Question 2.3.2**: Using the list of population size `DK_population` from above, calculate the average population of Denmark from year 1901 to 2020 (the whole list) using a loop. Round to the nearest whole number."
   ]
  },
  {
   "cell_type": "code",
   "execution_count": 182,
   "metadata": {},
   "outputs": [],
   "source": [
    "#Answer to question 2.3.2"
   ]
  },
  {
   "cell_type": "markdown",
   "metadata": {},
   "source": [
    "**Question 2.3.3**: Suppose you want your population size list to show the full population, not represented in the 1000s (i.e. 2447 should really be 2447000). Using a loop, create a new list `DK_population_long` where the elements show the full population. If you used a for loop for Question 2.3.2 then use a while loop for this question, or vice versa. "
   ]
  },
  {
   "cell_type": "code",
   "execution_count": 184,
   "metadata": {},
   "outputs": [],
   "source": [
    "#Answer to Question 2.3.3"
   ]
  },
  {
   "cell_type": "markdown",
   "metadata": {},
   "source": [
    "## 2.4 Dictionaries\n",
    "**Question 2.4.1**: Take the list of population size `DK_population` above and make a Dictionary called `DK_population_dict` with keys year and population (with the appropriate values). Recall that the data represents 1901 to 2020.  "
   ]
  },
  {
   "cell_type": "code",
   "execution_count": 186,
   "metadata": {},
   "outputs": [],
   "source": [
    "#Answer to question 2.4.1"
   ]
  },
  {
   "cell_type": "markdown",
   "metadata": {},
   "source": [
    "**Question 2.4.2**: What was the population in the year 1950?"
   ]
  },
  {
   "cell_type": "code",
   "execution_count": 188,
   "metadata": {},
   "outputs": [],
   "source": [
    "#Answer to question 2.4.2"
   ]
  },
  {
   "cell_type": "markdown",
   "metadata": {},
   "source": [
    "**Question 2.4.3**: Write a dictionary called `my_dictionary` that stores:\n",
    "- Your favourite animal\n",
    "- Your favourite colour\n",
    "- Your favourite TV Show\n",
    "- Your favourite film"
   ]
  },
  {
   "cell_type": "code",
   "execution_count": 190,
   "metadata": {},
   "outputs": [],
   "source": [
    "#Answer to question 2.4.3"
   ]
  },
  {
   "cell_type": "markdown",
   "metadata": {},
   "source": [
    "**Question 2.4.4**: Add a key and value to the your dictionary from 2.4.3 with your favourite band or artist. "
   ]
  },
  {
   "cell_type": "code",
   "execution_count": 192,
   "metadata": {},
   "outputs": [],
   "source": [
    "#Answer to question 2.4.4"
   ]
  },
  {
   "cell_type": "markdown",
   "metadata": {},
   "source": [
    "**Question 2.4.5**: \n",
    "1. Delete the favourite film field.\n",
    "2. Create an empty dictionary with the variable name as your favourite movie \n",
    "3. Populate the dictionary with the following keys (and give them values): \n",
    "    - Year\n",
    "    - Genre\n",
    "4. Do steps 2 and 3 for a two or three movies. \n",
    "5. Add the dictionaries of movies to a new dictionary called `favourite_movies` with the movie title as the key for each entry. \n",
    "6. Add `favourite_movies` to your `my_dictionary` under the key \"Favourite movies\"\n",
    "\n"
   ]
  },
  {
   "cell_type": "code",
   "execution_count": 194,
   "metadata": {},
   "outputs": [],
   "source": [
    "#Answer to question 2.4.5"
   ]
  },
  {
   "cell_type": "markdown",
   "metadata": {},
   "source": [
    "**Question 2.4.6**: See if you can print out different keys and values from `my_dictionary`. "
   ]
  },
  {
   "cell_type": "code",
   "execution_count": 197,
   "metadata": {},
   "outputs": [],
   "source": [
    "#Answer to question 2.4.6"
   ]
  },
  {
   "cell_type": "markdown",
   "metadata": {},
   "source": [
    "## 2.5 Reflection\n",
    "**Question 2.5.1**: Write a brief paragraph reflecting on your experience learning programming today. What did you struggle with? What did you enjoy? What surprised you?"
   ]
  },
  {
   "cell_type": "code",
   "execution_count": null,
   "metadata": {},
   "outputs": [],
   "source": [
    "#Answer to question 2.5.1"
   ]
  }
 ],
 "metadata": {
  "kernelspec": {
   "display_name": "Python 3",
   "language": "python",
   "name": "python3"
  },
  "language_info": {
   "codemirror_mode": {
    "name": "ipython",
    "version": 3
   },
   "file_extension": ".py",
   "mimetype": "text/x-python",
   "name": "python",
   "nbconvert_exporter": "python",
   "pygments_lexer": "ipython3",
   "version": "3.7.4"
  }
 },
 "nbformat": 4,
 "nbformat_minor": 2
}
