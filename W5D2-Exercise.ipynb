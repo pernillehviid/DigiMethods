{
 "cells": [
  {
   "cell_type": "markdown",
   "metadata": {},
   "source": [
    "# Data formats and open data\n",
    "**Exercises for week 5B** in Digital Methods, University of Copenhagen"
   ]
  },
  {
   "cell_type": "markdown",
   "metadata": {},
   "source": [
    "## 1. HTML"
   ]
  },
  {
   "cell_type": "markdown",
   "metadata": {},
   "source": [
    "HTML is the markup language used by web pages. It's ubiquitous on the web; even when editing this notebook you are interacting with HTML (right click and hit \"View Page Source\" if you need proof). Here follows some exercises to get you comfortable with navigating HTML on web pages."
   ]
  },
  {
   "cell_type": "markdown",
   "metadata": {},
   "source": [
    "> **Ex. 1**: Right click inside the cell below and hit \"Inspect\". This should launch the \"Inspector\" tool in your browser, showing you where the element that renders the cell sits inside the DOM.\n",
    "1. How deeply is it nested? Are there any sibling elements?\n",
    "2. What happens when you update it? Change the text and see for yourself.\n",
    ">\n",
    "> *Hint: Most modern browsers (e.g. Firefox, Chrome, Brave) will let you hover elements in the DOM to show where they display on the web page.*"
   ]
  },
  {
   "cell_type": "markdown",
   "metadata": {},
   "source": [
    "*HTML is a beautiful soup of hypertext!*"
   ]
  },
  {
   "cell_type": "markdown",
   "metadata": {},
   "source": [
    "> **Ex. 2**: In the HTML code below:\n",
    "1. What is typically the use of the `<p>`, `<h1>` and `<h2>` tags? Look them up, what are they for?\n",
    "2. What are the attributes of the `div` element?\n",
    "3. Create a text file that ends with \".html\" and open it in a browser."
   ]
  },
  {
   "cell_type": "markdown",
   "metadata": {},
   "source": [
    "    <html>\n",
    "    <body>\n",
    "\n",
    "    <div width=200 height=100 id=\"main\">\n",
    "        <h1>This is the main title of the webpage</h1>\n",
    "        <h2>This is a sub-heading</h2>\n",
    "        <p>This is a paragraph of text.</p>\n",
    "    </div>\n",
    "\n",
    "    <h2>This is another sub-heading</h2>\n",
    "    <p>This is a paragraph of text with some words in bold.</p>\n",
    "    <img src=\"https://external-content.duckduckgo.com/iu/?u=https%3A%2F%2Fmedia.giphy.com%2Fmedia%2FkFgzrTt798d2w%2Fgiphy.gif&f=1&nofb=1\" width=\"493\" height=\"340\">\n",
    "    <p>And that just above is an image.</p>\n",
    "\n",
    "    </body>\n",
    "    </html>\n"
   ]
  },
  {
   "cell_type": "markdown",
   "metadata": {},
   "source": [
    "> **Ex. 3**: Using the `requests` module, download [this web page](https://www.boliga.dk/resultat?propertyType=3&zipCodes=2200&page=1). Print the first 100 lines of the html string. How many lines are there in total?\n",
    ">\n",
    "> *Hint: use the `requests.get` method. To figure out how it works, execute `?requests.get` (after importing `requests`), this displays the module documentation.*"
   ]
  },
  {
   "cell_type": "markdown",
   "metadata": {},
   "source": [
    "## 1.2 Scraping"
   ]
  },
  {
   "cell_type": "markdown",
   "metadata": {},
   "source": [
    "*Scraping* means to parse HTML and collect the important pieces of information inside. *Crawling* is\n",
    "another important contect, and the word refers to automatically sifting through pages of the web and scraping\n",
    "information on each page. 90% of scraping and crawling work can be done using the two modules `requests` and\n",
    "`BeautifulSoup`."
   ]
  },
  {
   "cell_type": "markdown",
   "metadata": {},
   "source": [
    "> **Ex. 4:** Load the toy example HTML with BeautifulSoup. Use the [documentation page](https://www.crummy.com/software/BeautifulSoup/bs4/doc/) for reference on how to do this.\n",
    "1. Access the `h1` element inside the `div` and print out its content (which is \"This is the main title of the webpage\").\n",
    "2. Get the value of the `src` attribute inside the `img` element.\n",
    "3. Get the second subheading that contains \"This is another sub-heading\" and print out that content.\n",
    "4. Get the `div` element by searching for its id."
   ]
  },
  {
   "cell_type": "markdown",
   "metadata": {},
   "source": [
    "> **Ex. 5** Load the HTML you downloaded in Ex. 3. For each post, extract price, square meter size and \"Ejerudgift\". You should create three different lists that contain each variable across posts."
   ]
  },
  {
   "cell_type": "markdown",
   "metadata": {},
   "source": [
    "> **Ex. 6:** Make a scatter plot of square meter size vs. extracted price. Then make a new variable that \n",
    "measures price per square meter and scatter plot this against \"Ejerudgift\". Can you say anything about how\n",
    "\"Ejerudgift\" influences square meter price?"
   ]
  },
  {
   "cell_type": "markdown",
   "metadata": {},
   "source": [
    "> **Supercharge:** Crawl over pages of Boliga to collect this data for the entire borough of Nørrebro. Or all of Copenhagen!"
   ]
  }
 ],
 "metadata": {
  "display_name": "Python 3",
  "kernelspec": {
   "display_name": "Python 3",
   "language": "python",
   "name": "python3"
  },
  "language_info": {
   "codemirror_mode": {
    "name": "ipython",
    "version": 3
   },
   "file_extension": ".py",
   "mimetype": "text/x-python",
   "name": "python",
   "nbconvert_exporter": "python",
   "pygments_lexer": "ipython3",
   "version": "3.7.3"
  },
  "toc": {
   "base_numbering": 1,
   "nav_menu": {},
   "number_sections": false,
   "sideBar": true,
   "skip_h1_title": false,
   "title_cell": "Table of Contents",
   "title_sidebar": "Contents",
   "toc_cell": false,
   "toc_position": {},
   "toc_section_display": true,
   "toc_window_display": true
  },
  "varInspector": {
   "cols": {
    "lenName": 16,
    "lenType": 16,
    "lenVar": 40
   },
   "kernels_config": {
    "python": {
     "delete_cmd_postfix": "",
     "delete_cmd_prefix": "del ",
     "library": "var_list.py",
     "varRefreshCmd": "print(var_dic_list())"
    },
    "r": {
     "delete_cmd_postfix": ") ",
     "delete_cmd_prefix": "rm(",
     "library": "var_list.r",
     "varRefreshCmd": "cat(var_dic_list()) "
    }
   },
   "types_to_exclude": [
    "module",
    "function",
    "builtin_function_or_method",
    "instance",
    "_Feature"
   ],
   "window_display": false
  }
 },
 "nbformat": 4,
 "nbformat_minor": 1
}
