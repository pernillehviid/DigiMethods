{
 "cells": [
  {
   "cell_type": "code",
   "execution_count": 2,
   "metadata": {
    "collapsed": true
   },
   "outputs": [],
   "source": []
  },
  {
   "cell_type": "code",
   "execution_count": 1,
   "metadata": {},
   "outputs": [
    {
     "name": "stdout",
     "output_type": "stream",
     "text": [
      "[1, 2, 5, 9, 12]\n"
     ]
    },
    {
     "data": {
      "text/plain": [
       "2"
      ]
     },
     "execution_count": 1,
     "metadata": {},
     "output_type": "execute_result"
    }
   ],
   "source": [
    "my_list = [1,2,5,9]\n",
    "my_list.append(12)\n",
    "print(my_list)\n",
    "\n",
    "my_list[1]"
   ]
  },
  {
   "cell_type": "code",
   "execution_count": 2,
   "metadata": {},
   "outputs": [],
   "source": [
    "my_list2 = [\"this\",\"is\",\"a\",\"list\",\"of\",\"strings\"]"
   ]
  },
  {
   "cell_type": "code",
   "execution_count": null,
   "metadata": {
    "collapsed": true
   },
   "outputs": [],
   "source": [
    "my_list3 = []"
   ]
  },
  {
   "cell_type": "code",
   "execution_count": 3,
   "metadata": {},
   "outputs": [
    {
     "data": {
      "text/plain": [
       "' '"
      ]
     },
     "execution_count": 3,
     "metadata": {},
     "output_type": "execute_result"
    }
   ],
   "source": [
    "my_string = \"I'm a string!\"\n",
    "my_string[3]"
   ]
  },
  {
   "cell_type": "code",
   "execution_count": 4,
   "metadata": {},
   "outputs": [
    {
     "data": {
      "text/plain": [
       "\"'m\""
      ]
     },
     "execution_count": 4,
     "metadata": {},
     "output_type": "execute_result"
    }
   ],
   "source": [
    "my_string[1:3]"
   ]
  },
  {
   "cell_type": "code",
   "execution_count": 11,
   "metadata": {
    "collapsed": true
   },
   "outputs": [
    {
     "data": {
      "text/plain": [
       "['https:', '', 'realpython.com', 'python-lists-tuples', '']"
      ]
     },
     "execution_count": 11,
     "metadata": {},
     "output_type": "execute_result"
    }
   ],
   "source": [
    "my_url = \"https://realpython.com/python-lists-tuples/\"\n",
    "my_url.split(\"/\")"
   ]
  },
  {
   "cell_type": "code",
   "execution_count": 13,
   "metadata": {
    "collapsed": true
   },
   "outputs": [
    {
     "data": {
      "text/plain": [
       "'Unknown'"
      ]
     },
     "execution_count": 13,
     "metadata": {},
     "output_type": "execute_result"
    }
   ],
   "source": [
    "instructors = [('Samantha', 'Anthropology', '16.0.05'),\n",
    "               ('Friedo', 'Sociology', '1.2.7'),\n",
    "               ('Ulf', 'Physics', 'Unknown')]\n",
    "instructors[2][2]"
   ]
  },
  {
   "cell_type": "code",
   "execution_count": null,
   "metadata": {
    "collapsed": true
   },
   "outputs": [],
   "source": []
  },
  {
   "cell_type": "code",
   "execution_count": 14,
   "metadata": {
    "collapsed": true
   },
   "outputs": [],
   "source": [
    "my_dictionary = {'Friedo':'Sociology', \n",
    "                'Samantha': 'Anthropology',\n",
    "                'Ulf':'Physics'}"
   ]
  },
  {
   "cell_type": "code",
   "execution_count": 15,
   "metadata": {
    "collapsed": true
   },
   "outputs": [
    {
     "data": {
      "text/plain": [
       "'Sociology'"
      ]
     },
     "execution_count": 15,
     "metadata": {},
     "output_type": "execute_result"
    }
   ],
   "source": [
    "my_dictionary['Friedo']"
   ]
  },
  {
   "cell_type": "code",
   "execution_count": 22,
   "metadata": {},
   "outputs": [
    {
     "name": "stdout",
     "output_type": "stream",
     "text": [
      "[('Samantha', 103), ('Friedo', 78), ('Ulf', 85)]\n",
      "{'Samantha': 103, 'Friedo': 78, 'Ulf': 85}\n"
     ]
    }
   ],
   "source": [
    "keys = ['Samantha', 'Friedo', 'Ulf']\n",
    "ages = [103, 78, 85]\n",
    "key_values = list(zip(keys, ages))\n",
    "#key_values\n",
    "print(key_values)\n",
    "\n",
    "my_dictionary2 = dict(key_values)\n",
    "print (my_dictionary2)\n"
   ]
  },
  {
   "cell_type": "code",
   "execution_count": 26,
   "metadata": {},
   "outputs": [
    {
     "name": "stdout",
     "output_type": "stream",
     "text": [
      "{'key1': 'something else'}\n"
     ]
    }
   ],
   "source": [
    "adictionary = {\"key1\": \"something\",\n",
    "              \"key1\": \"something else\"}\n",
    "adictionary[\"key1\"]\n",
    "print(adictionary)"
   ]
  },
  {
   "cell_type": "code",
   "execution_count": 1,
   "metadata": {},
   "outputs": [
    {
     "name": "stdout",
     "output_type": "stream",
     "text": [
      "31.2\n"
     ]
    }
   ],
   "source": [
    "ages = [26, 21, 44, 28, 37]\n",
    "avg_age = 0\n",
    "\n",
    "for i in ages:\n",
    "    avg_age += i\n",
    "\n",
    "avg_age /= len(ages)\n",
    "\n",
    "print(avg_age)"
   ]
  },
  {
   "cell_type": "code",
   "execution_count": 2,
   "metadata": {},
   "outputs": [
    {
     "name": "stdout",
     "output_type": "stream",
     "text": [
      "-6\n"
     ]
    }
   ],
   "source": [
    "my_var = 0\n",
    "my_var = my_var - 2\n",
    "my_var *= 3\n",
    "\n",
    "print(my_var)"
   ]
  },
  {
   "cell_type": "code",
   "execution_count": 36,
   "metadata": {
    "collapsed": true
   },
   "outputs": [
    {
     "name": "stdout",
     "output_type": "stream",
     "text": [
      "1\n",
      "<class 'int'>\n"
     ]
    }
   ],
   "source": [
    "my_var2 = 5\n",
    "my_var2 += 3.8\n",
    "my_var2 = 1\n",
    "\n",
    "print(my_var2)\n",
    "print(type(my_var2))"
   ]
  },
  {
   "cell_type": "code",
   "execution_count": 3,
   "metadata": {},
   "outputs": [
    {
     "data": {
      "text/plain": [
       "5"
      ]
     },
     "execution_count": 3,
     "metadata": {},
     "output_type": "execute_result"
    }
   ],
   "source": [
    "#The len one is a function\n",
    "my_string = \"hello\"\n",
    "len(my_string)"
   ]
  },
  {
   "cell_type": "code",
   "execution_count": 4,
   "metadata": {},
   "outputs": [
    {
     "data": {
      "text/plain": [
       "'Hello'"
      ]
     },
     "execution_count": 4,
     "metadata": {},
     "output_type": "execute_result"
    }
   ],
   "source": [
    "#This one is a method\n",
    "my_string.capitalize()\n"
   ]
  },
  {
   "cell_type": "code",
   "execution_count": 25,
   "metadata": {
    "collapsed": true
   },
   "outputs": [
    {
     "name": "stdout",
     "output_type": "stream",
     "text": [
      "31.2\n"
     ]
    }
   ],
   "source": [
    "count = 0\n",
    "avg_age = 0\n",
    "\n",
    "while count<len(ages):\n",
    "    avg_age += ages[count]\n",
    "    count += 1\n",
    "avg_age /= len(ages)\n",
    "print(avg_age)"
   ]
  },
  {
   "cell_type": "code",
   "execution_count": 6,
   "metadata": {},
   "outputs": [
    {
     "name": "stdout",
     "output_type": "stream",
     "text": [
      "An invalid ages was entered\n",
      "34.75\n"
     ]
    }
   ],
   "source": [
    "#Hun har ikke sagt at den ikke skal indkludere -3, men det er en fejl, fordi man ikke kan \n",
    "#være -3. Den tager den ikke med i udregningen, men den dividerer stadig med 4. \n",
    "#Derfor får man et forkert svar\n",
    "ages2 = [4, 55, -3, 80]\n",
    "count = 0\n",
    "avg_age2 = 0\n",
    "while count<len(ages2):\n",
    "    if ages2[count] < 0: \n",
    "        print(\"An invalid ages was entered\")\n",
    "    else: \n",
    "        avg_age2 += ages2[count]\n",
    "    count += 1\n",
    "avg_age2 /= len(ages2)\n",
    "print(avg_age2)"
   ]
  },
  {
   "cell_type": "code",
   "execution_count": 31,
   "metadata": {
    "collapsed": true
   },
   "outputs": [
    {
     "name": "stdout",
     "output_type": "stream",
     "text": [
      "[0, 1, 2, 3, 4]\n",
      "[[0, 1, 2, 3, 4], [3, 4, 5, 6, 7, 8]]\n"
     ]
    }
   ],
   "source": [
    "A = list(range(5))\n",
    "print (A)\n",
    "B = list(range(3,9))\n",
    "C = [A,B]\n",
    "print(C)"
   ]
  },
  {
   "cell_type": "code",
   "execution_count": null,
   "metadata": {
    "collapsed": true
   },
   "outputs": [],
   "source": []
  }
 ],
 "metadata": {
  "kernelspec": {
   "display_name": "Python 3",
   "language": "python",
   "name": "python3"
  },
  "language_info": {
   "codemirror_mode": {
    "name": "ipython",
    "version": 3
   },
   "file_extension": ".py",
   "mimetype": "text/x-python",
   "name": "python",
   "nbconvert_exporter": "python",
   "pygments_lexer": "ipython3",
   "version": "3.7.4"
  }
 },
 "nbformat": 4,
 "nbformat_minor": 2
}
