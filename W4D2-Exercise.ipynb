{
 "cells": [
  {
   "cell_type": "markdown",
   "metadata": {},
   "source": [
    "# Data formats and open data\n",
    "**Exercises for week 4B** in Digital Methods, University of Copenhagen"
   ]
  },
  {
   "cell_type": "markdown",
   "metadata": {},
   "source": [
    "## 1. Data formats"
   ]
  },
  {
   "cell_type": "markdown",
   "metadata": {},
   "source": [
    "We will be working with two main types of data formats: tabular and non-tabular. In 99% of practical scenarios\n",
    "that translates to files in either CSV format (tabular) or JSON format (non-tabular)."
   ]
  },
  {
   "cell_type": "markdown",
   "metadata": {},
   "source": [
    "### 1.1 Tabular data"
   ]
  },
  {
   "cell_type": "markdown",
   "metadata": {},
   "source": [
    "> **Ex. 1**: Download [this file](https://www.dropbox.com/s/8ntns0td580be3i/output_got.csv?dl=0) and load it as a list\n",
    "of lists. Print the first 10 lines, as well as the total number of lines."
   ]
  },
  {
   "cell_type": "markdown",
   "metadata": {},
   "source": [
    "> **Ex. 2**: Load the same file into a `pandas.DataFrame`. What do you think it describes, and can you characterize\n",
    "it just from a glance? What would be some things we could investigate about this data?\n",
    ">\n",
    "> *Hint: To load a csv as a pandas dataframe you can `import pandas as pd` (if you do not have it installed, run `pip install pandas`\n",
    "in your terminal/command prompt) and load it using [`pd.read_csv`](https://pandas.pydata.org/pandas-docs/stable/reference/api/pandas.read_csv.html).*"
   ]
  },
  {
   "cell_type": "markdown",
   "metadata": {},
   "source": [
    "> **Ex. 3**: Are there missing values in the data? How does `pandas` handle these? Can we remedy missing values in\n",
    "any way?"
   ]
  },
  {
   "cell_type": "markdown",
   "metadata": {},
   "source": [
    "> ***If you are motivated***: Install [GetOldTweets3](https://pypi.org/project/GetOldTweets3/). Use it to download\n",
    "a dataset of tweets about Corona virus originating from Denmark (or in Danish). Print a handful of tweets and summarize the discourse."
   ]
  },
  {
   "cell_type": "markdown",
   "metadata": {},
   "source": [
    "### 1.2 Non-tabular data"
   ]
  },
  {
   "cell_type": "markdown",
   "metadata": {},
   "source": [
    "> **Ex. 4** In Python, JSON is rendered as a `dict`-type object. `dict`s are key-value stores, much like \n",
    "dictionaries that map words between e.g. Danish and English: input a word in Danish (the key) and get the word\n",
    "in English (the value). In Python this operation is achieved by \"keying\" into a dictionary with code like\n",
    "`my_dict[the_key]`. JSON objects are, however, a step more complicated. How? Because values can themselves be\n",
    "dictionaries (or lists), thus nesting the data in a tree structure. In this exercise, you should \"key\" into `my_json_obj`\n",
    "below to access the list of useless cats."
   ]
  },
  {
   "cell_type": "code",
   "execution_count": 21,
   "metadata": {
    "ExecuteTime": {
     "end_time": "2020-02-28T08:41:12.291521Z",
     "start_time": "2020-02-28T08:41:12.288201Z"
    }
   },
   "outputs": [],
   "source": [
    "my_json_obj = {\n",
    "    'cats': {\n",
    "        'awesome': ['Missy'],\n",
    "        'useless': ['Kim', 'Frank', 'Sandy']\n",
    "    },\n",
    "    'dogs': {\n",
    "        'awesome': ['Finn', 'Dolores', 'Fido', 'Casper'],\n",
    "        'useless': []\n",
    "    }\n",
    "}"
   ]
  },
  {
   "cell_type": "markdown",
   "metadata": {},
   "source": [
    "> **Ex. 5**: Run the code snippet below to download frontpage of posts from the *[r/coronavirus](https://www.reddit.com/r/Coronavirus/)* subreddit in\n",
    "[json format](https://www.reddit.com/r/coronavirus.json). With pen and paper (or another illustration tool) draw a sketch that outlines the data\n",
    "as a tree (similar to example in lecture)."
   ]
  },
  {
   "cell_type": "code",
   "execution_count": 10,
   "metadata": {
    "ExecuteTime": {
     "end_time": "2020-02-28T08:25:29.145158Z",
     "start_time": "2020-02-28T08:25:28.519474Z"
    }
   },
   "outputs": [],
   "source": [
    "import requests as rq\n",
    "data = rq.get(\n",
    "    \"https://www.reddit.com/r/coronavirus.json\",    # link to the data\n",
    "    headers={'User-agent': 'digital_methods_2020'}  # a user agent that tells reddit who we are (good measure)\n",
    ").json()                                            # render the response from reddits server as JSON data"
   ]
  },
  {
   "cell_type": "markdown",
   "metadata": {},
   "source": [
    "> **Ex. 6** Similar to how you returned the list of useless cats in Ex. 4, now \"key\" into `data`\n",
    "to access a value that informs you this data is from the 'Coronavirus' subreddit."
   ]
  }
 ],
 "metadata": {
  "display_name": "Python 3",
  "kernelspec": {
   "display_name": "Python 3",
   "language": "python",
   "name": "python3"
  },
  "language_info": {
   "codemirror_mode": {
    "name": "ipython",
    "version": 3
   },
   "file_extension": ".py",
   "mimetype": "text/x-python",
   "name": "python",
   "nbconvert_exporter": "python",
   "pygments_lexer": "ipython3",
   "version": "3.7.3"
  },
  "toc": {
   "base_numbering": 1,
   "nav_menu": {},
   "number_sections": false,
   "sideBar": true,
   "skip_h1_title": false,
   "title_cell": "Table of Contents",
   "title_sidebar": "Contents",
   "toc_cell": false,
   "toc_position": {},
   "toc_section_display": true,
   "toc_window_display": true
  },
  "varInspector": {
   "cols": {
    "lenName": 16,
    "lenType": 16,
    "lenVar": 40
   },
   "kernels_config": {
    "python": {
     "delete_cmd_postfix": "",
     "delete_cmd_prefix": "del ",
     "library": "var_list.py",
     "varRefreshCmd": "print(var_dic_list())"
    },
    "r": {
     "delete_cmd_postfix": ") ",
     "delete_cmd_prefix": "rm(",
     "library": "var_list.r",
     "varRefreshCmd": "cat(var_dic_list()) "
    }
   },
   "types_to_exclude": [
    "module",
    "function",
    "builtin_function_or_method",
    "instance",
    "_Feature"
   ],
   "window_display": false
  }
 },
 "nbformat": 4,
 "nbformat_minor": 1
}
