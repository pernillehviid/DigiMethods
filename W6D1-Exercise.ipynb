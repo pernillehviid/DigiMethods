{
 "cells": [
  {
   "cell_type": "markdown",
   "metadata": {},
   "source": [
    "# Exercise W6D1: Data Analysis Tools I - Pandas \n",
    "\n",
    "## 6.1.1 Data Wrangling and Visualizing"
   ]
  },
  {
   "cell_type": "markdown",
   "metadata": {},
   "source": [
    "**Exercise 6.1.1.1** Read in the dataset \"nchs_death_causes.csv\" using `pandas` methods."
   ]
  },
  {
   "cell_type": "markdown",
   "metadata": {},
   "source": [
    "**Exercise 6.1.1.2** Make a `DataFrame` that is a subset of the data, containing only one cause of death and one state."
   ]
  },
  {
   "cell_type": "markdown",
   "metadata": {},
   "source": [
    "**Exercise 6.1.1.3** Plot a line graph that shows the development of the death rate over time. Pay attention to whether your plot is intuitive."
   ]
  },
  {
   "cell_type": "markdown",
   "metadata": {},
   "source": [
    "**Exercise 6.1.1.4** Make your figure self-contained and export it/save it to your machine."
   ]
  },
  {
   "cell_type": "markdown",
   "metadata": {},
   "source": [
    "**Exercise 6.1.1.5** Make a `DataFrame` that is a subset of the data, containing _two_ causes of death that might be interesting to compare for one state."
   ]
  },
  {
   "cell_type": "markdown",
   "metadata": {},
   "source": [
    "**Exercise 6.1.1.6** Create a _self-contained_ scatter plot that compares the two causes of death in the state."
   ]
  },
  {
   "cell_type": "markdown",
   "metadata": {},
   "source": [
    "**Exercise 6.1.1.7** Make a `DataFrame` that is a subset of the data, containing data for only one year and one state."
   ]
  },
  {
   "cell_type": "markdown",
   "metadata": {},
   "source": [
    "**Exercise 6.1.1.8** Create a  _self-contained_ bar graph showing the death rate across causes of death in your subset of the data."
   ]
  },
  {
   "cell_type": "markdown",
   "metadata": {},
   "source": [
    "**Exercise 6.1.1.9** Interpret your bar graph."
   ]
  },
  {
   "cell_type": "markdown",
   "metadata": {},
   "source": [
    "## _If You Have Time_ Follow Your Interests "
   ]
  },
  {
   "cell_type": "markdown",
   "metadata": {},
   "source": [
    "**6.1.2.1** Think about the different data sources you have been using so far. Identify one source of data you were particularly interested in, get the data, think about what might be interesting to explore visually and plot it. Remember that there is an entire [Dataverse](https://dataverse.harvard.edu/) out there that you can draw on, which you can now easily import using the `pandas` functionality."
   ]
  }
 ],
 "metadata": {
  "kernelspec": {
   "display_name": "Python 3",
   "language": "python",
   "name": "python3"
  },
  "language_info": {
   "codemirror_mode": {
    "name": "ipython",
    "version": 3
   },
   "file_extension": ".py",
   "mimetype": "text/x-python",
   "name": "python",
   "nbconvert_exporter": "python",
   "pygments_lexer": "ipython3",
   "version": "3.7.4"
  }
 },
 "nbformat": 4,
 "nbformat_minor": 2
}
