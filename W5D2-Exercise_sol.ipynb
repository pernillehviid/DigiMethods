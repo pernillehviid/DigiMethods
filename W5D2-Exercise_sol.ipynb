{
 "cells": [
  {
   "cell_type": "markdown",
   "metadata": {},
   "source": [
    "# Data formats and open data\n",
    "**Exercises for week 5B** in Digital Methods, University of Copenhagen"
   ]
  },
  {
   "cell_type": "markdown",
   "metadata": {},
   "source": [
    "## 1. HTML"
   ]
  },
  {
   "cell_type": "markdown",
   "metadata": {},
   "source": [
    "HTML is the markup language used by web pages. It's ubiquitous on the web; even when editing this notebook you are interacting with HTML (right click and hit \"View Page Source\" if you need proof). Here follows some exercises to get you comfortable with navigating HTML on web pages."
   ]
  },
  {
   "cell_type": "markdown",
   "metadata": {},
   "source": [
    "> **Ex. 1**: Right click inside the cell below and hit \"Inspect\". This should launch the \"Inspector\" tool in your browser, showing you where the element that renders the cell sits inside the DOM.\n",
    "1. How deeply is it nested? Are there any sibling elements?\n",
    "2. What happens when you update it? Change the text and see for yourself.\n",
    ">\n",
    "> *Hint: Most modern browsers (e.g. Firefox, Chrome, Brave) will let you hover elements in the DOM to show where they display on the web page.*"
   ]
  },
  {
   "cell_type": "markdown",
   "metadata": {},
   "source": [
    "*HTML is a beautiful soup of hypertext!*"
   ]
  },
  {
   "cell_type": "markdown",
   "metadata": {},
   "source": [
    "**ANS 1**"
   ]
  },
  {
   "cell_type": "markdown",
   "metadata": {},
   "source": [
    "I find that there are 9 divs around it, so including the `body` and `html` tags, \n",
    "the cell is 11 levels deep! It has a four sibling divs at the same level."
   ]
  },
  {
   "cell_type": "markdown",
   "metadata": {},
   "source": [
    "**ANS 2**"
   ]
  },
  {
   "cell_type": "markdown",
   "metadata": {},
   "source": [
    "The HTML automatically updates!"
   ]
  },
  {
   "cell_type": "markdown",
   "metadata": {},
   "source": [
    "> **Ex. 2**: In the HTML code below:\n",
    "1. What is typically the use of the `<p>`, `<h1>` and `<h2>` tags? Look them up, what are they for?\n",
    "2. What are the attributes of the `div` element?\n",
    "3. Create a text file that ends with \".html\" and open it in a browser."
   ]
  },
  {
   "cell_type": "markdown",
   "metadata": {},
   "source": [
    "    <html>\n",
    "    <body>\n",
    "\n",
    "    <div width=200 height=100 id=\"main\">\n",
    "        <h1>This is the main title of the webpage</h1>\n",
    "        <h2>This is a sub-heading</h2>\n",
    "        <p>This is a paragraph of text.</p>\n",
    "    </div>\n",
    "\n",
    "    <h2>This is another sub-heading</h2>\n",
    "    <p>This is a paragraph of text with some words in bold.</p>\n",
    "    <img src=\"https://external-content.duckduckgo.com/iu/?u=https%3A%2F%2Fmedia.giphy.com%2Fmedia%2FkFgzrTt798d2w%2Fgiphy.gif&f=1&nofb=1\" width=\"493\" height=\"340\">\n",
    "    <p>And that just above is an image.</p>\n",
    "\n",
    "    </body>\n",
    "    </html>\n"
   ]
  },
  {
   "cell_type": "markdown",
   "metadata": {},
   "source": [
    "**ANS 1**"
   ]
  },
  {
   "cell_type": "markdown",
   "metadata": {},
   "source": [
    "`<p>` tags are for declaring paragraphs of text. They are useful because they let\n",
    "you define differen classes of text that you can style seperately. For web scraping\n",
    "this is sometimes convenient as we can sort through paragraphs based on classes\n",
    "if we know what class of paragraphs to look for."
   ]
  },
  {
   "cell_type": "markdown",
   "metadata": {},
   "source": [
    "**ANS 2**"
   ]
  },
  {
   "cell_type": "markdown",
   "metadata": {},
   "source": [
    "The `div` object has attributes `width=100`, `height=100` and `id=\"main\"`."
   ]
  },
  {
   "cell_type": "markdown",
   "metadata": {},
   "source": [
    "> **Ex. 3**: Using the `requests` module, download [this web page](https://www.boliga.dk/resultat?propertyType=3&zipCodes=2200&page=1). Print the first 100 lines of the html string. How many lines are there in total?\n",
    ">\n",
    "> *Hint: use the `requests.get` method. To figure out how it works, execute `?requests.get` (after importing `requests`), this displays the module documentation.*"
   ]
  },
  {
   "cell_type": "code",
   "execution_count": 2,
   "metadata": {
    "ExecuteTime": {
     "end_time": "2020-03-10T14:09:49.867281Z",
     "start_time": "2020-03-10T14:09:48.727991Z"
    }
   },
   "outputs": [
    {
     "name": "stdout",
     "output_type": "stream",
     "text": [
      "<!DOCTYPE html><html lang=\"en\"><head>\n",
      "  <!-- Google Tag Manager -->\n",
      "  <script>(function(w,d,s,l,i){w[l]=w[l]||[];w[l].push({'gtm.start':\n",
      "    new Date().getTime(),event:'gtm.js'});var f=d.getElementsByTagName(s)[0],\n",
      "    j=d.createElement(s),dl=l!='dataLayer'?'&l='+l:'';j.async=true;j.src=\n",
      "    'https://www.googletagmanager.com/gtm.js?id='+i+dl;f.parentNode.insertBefore(j,f);\n",
      "    })(window,document,'script','dataLayer','GTM-PWD5VZT');\n",
      "  </script>\n",
      "  <!-- End Google Tag Manager -->\n",
      "\n",
      "  <meta charset=\"utf-8\">\n",
      "  <meta name=\"description\" content=\"2200 København N &amp; Ejerlejlighed. Udforsk boligerne og få alle oplysninger om boligen, inden du køber. Se resultaterne på en liste her.\">\n",
      "  <meta name=\"keywords\" content=\"\">\n",
      "\n",
      "  <title>2200 København N &amp; Ejerlejlighed - Boliga.dk</title>\n",
      "  <base href=\"/\">\n",
      "  <meta name=\"viewport\" content=\"width=device-width, initial-scale=1, maximum-scale=1, user-scalable=0\">\n",
      "  <link rel=\"icon\" type=\"image/x-icon\" href=\"favicon.ico\">\n",
      "  <link href=\"https://fonts.googleapis.com/css?family=Montserrat:400,500,600,700\" rel=\"stylesheet\">\n",
      "\n",
      "  <script type=\"text/javascript\" src=\"https://connect.facebook.net/en_US/sdk.js\"></script>\n",
      "  <script id=\"CookieConsent\" data-culture=\"DA\" src=\"./assets/images/cookieConsent.js\"></script>\n",
      "  <!--<script id=\"CookieConsent\" data-culture=\"DA\" src=\"https://policy.app.cookieinformation.com/uc.js\"></script>-->\n",
      "<link rel=\"stylesheet\" href=\"styles.854ad6897c71e66e620d.css\"><style ng-transition=\"boliga-app\"></style><style ng-transition=\"boliga-app\">.app-header.header-shadow {\n",
      "  box-shadow: 0 0 30px 0 rgba(0, 0, 0, 0.2);\n",
      "}\n",
      "\n",
      ".app-header.theme-light .header-line {\n",
      "  background-color: #fff;\n",
      "}\n",
      "\n",
      ".app-header.theme-light .header-line .burger {\n",
      "  background: #f7f7f7;\n",
      "}\n",
      "\n",
      ".app-header.theme-light .header-line .burger svg {\n",
      "  fill: #6091C0 !important;\n",
      "}\n",
      "\n",
      ".app-header.theme-light .header-line .logo svg {\n",
      "  fill: #6091C0;\n",
      "}\n",
      "\n",
      ".app-header.theme-light .header-line .app-search-edit-panel {\n",
      "  padding: 0 !important;\n",
      "  margin: 0 !important;\n",
      "  border: 0 !important;\n",
      "}\n",
      "\n",
      ".app-header.theme-light .header-line .app-search-edit-panel .app-search-on-map-nav {\n",
      "  display: none !important;\n",
      "}\n",
      "\n",
      ".app-header.transparent .header-line {\n",
      "  background: rgba(0, 0, 0, 0.7);\n",
      "}\n",
      "\n",
      ".app-header.transparent .header-line .burger {\n",
      "  background: #000;\n",
      "}\n",
      "\n",
      ".app-header {\n",
      "  height: 65px;\n",
      "}\n",
      "\n",
      "@media (max-width: 767.98px) {\n",
      "  .app-header {\n",
      "    height: 54px;\n",
      "  }\n",
      "}\n",
      "\n",
      ".app-header.double-height {\n",
      "  height: 130px;\n",
      "}\n",
      "\n",
      ".app-header .header-line {\n",
      "  background-color: #6091C0;\n",
      "  height: 65px;\n",
      "  top: 0;\n",
      "  left: 0;\n",
      "  z-index: 1004;\n",
      "}\n",
      "\n",
      "@media (max-width: 767.98px) {\n",
      "  .app-header .header-line {\n",
      "    height: 54px;\n",
      "  }\n",
      "}\n",
      "\n",
      ".app-header.transparent {\n",
      "  height: 0;\n",
      "}\n",
      "\n",
      ".app-header.theme-light .second-line {\n",
      "  top: 65px;\n",
      "}\n",
      "\n",
      ".app-header .logo svg {\n",
      "  fill: #fff;\n",
      "  width: 92px;\n"
     ]
    }
   ],
   "source": [
    "import requests as rq\n",
    "\n",
    "# Get a response from the web server\n",
    "response = rq.get('https://www.boliga.dk/resultat?propertyType=3&zipCodes=2200&page=1')\n",
    "\n",
    "# Render it as text\n",
    "html = response.text\n",
    "\n",
    "# Split it on lines and take the first 100\n",
    "html = html.split(\"\\n\")\n",
    "\n",
    "# Loop over the segments and print the first 100\n",
    "for i in range(100):\n",
    "    print(html[i])"
   ]
  },
  {
   "cell_type": "markdown",
   "metadata": {},
   "source": [
    "## 1.2 Scraping"
   ]
  },
  {
   "cell_type": "markdown",
   "metadata": {},
   "source": [
    "*Scraping* means to parse HTML and collect the important pieces of information inside. *Crawling* is\n",
    "another important contect, and the word refers to automatically sifting through pages of the web and scraping\n",
    "information on each page. 90% of scraping and crawling work can be done using the two modules `requests` and\n",
    "`BeautifulSoup`."
   ]
  },
  {
   "cell_type": "markdown",
   "metadata": {},
   "source": [
    "> **Ex. 4:** Load the toy example HTML with BeautifulSoup. Use the [documentation page](https://www.crummy.com/software/BeautifulSoup/bs4/doc/) for reference on how to do this.\n",
    "1. Access the `h1` element inside the `div` and print out its content (which is \"This is the main title of the webpage\").\n",
    "2. Get the value of the `src` attribute inside the `img` element.\n",
    "3. Get the second subheading that contains \"This is another sub-heading\" and print out that content.\n",
    "4. Get the `div` element by searching for its id."
   ]
  },
  {
   "cell_type": "markdown",
   "metadata": {},
   "source": [
    "**ANS**"
   ]
  },
  {
   "cell_type": "code",
   "execution_count": 3,
   "metadata": {
    "ExecuteTime": {
     "end_time": "2020-03-10T14:10:53.011192Z",
     "start_time": "2020-03-10T14:10:53.006283Z"
    }
   },
   "outputs": [],
   "source": [
    "from bs4 import BeautifulSoup\n",
    "\n",
    "html = \"\"\"\n",
    "<html>\n",
    "<body>\n",
    "\n",
    "<div width=200 height=100 id=\"main\">\n",
    "    <h1>This is the main title of the webpage</h1>\n",
    "    <h2>This is a sub-heading</h2>\n",
    "    <p>This is a paragraph of text.</p>\n",
    "</div>\n",
    "\n",
    "<h2>This is another sub-heading</h2>\n",
    "<p>This is a paragraph of text with some words in bold.</p>\n",
    "<img src=\"https://external-content.duckduckgo.com/iu/?u=https%3A%2F%2Fmedia.giphy.com%2Fmedia%2FkFgzrTt798d2w%2Fgiphy.gif&f=1&nofb=1\" width=\"493\" height=\"340\">\n",
    "<p>And that just above is an image.</p>\n",
    "\n",
    "</body>\n",
    "</html>\"\"\"\n",
    "\n",
    "soup = BeautifulSoup(html, 'html.parser')"
   ]
  },
  {
   "cell_type": "markdown",
   "metadata": {},
   "source": [
    "**ANS 1**"
   ]
  },
  {
   "cell_type": "code",
   "execution_count": 5,
   "metadata": {
    "ExecuteTime": {
     "end_time": "2020-03-10T14:11:20.825411Z",
     "start_time": "2020-03-10T14:11:20.820351Z"
    }
   },
   "outputs": [
    {
     "data": {
      "text/plain": [
       "'This is the main title of the webpage'"
      ]
     },
     "execution_count": 5,
     "metadata": {},
     "output_type": "execute_result"
    }
   ],
   "source": [
    "soup.div.h1.string"
   ]
  },
  {
   "cell_type": "markdown",
   "metadata": {},
   "source": [
    "**ANS 2**"
   ]
  },
  {
   "cell_type": "code",
   "execution_count": 6,
   "metadata": {
    "ExecuteTime": {
     "end_time": "2020-03-10T14:11:36.825075Z",
     "start_time": "2020-03-10T14:11:36.819638Z"
    }
   },
   "outputs": [
    {
     "data": {
      "text/plain": [
       "'https://external-content.duckduckgo.com/iu/?u=https%3A%2F%2Fmedia.giphy.com%2Fmedia%2FkFgzrTt798d2w%2Fgiphy.gif&f=1&nofb=1'"
      ]
     },
     "execution_count": 6,
     "metadata": {},
     "output_type": "execute_result"
    }
   ],
   "source": [
    "soup.img['src']"
   ]
  },
  {
   "cell_type": "markdown",
   "metadata": {},
   "source": [
    "**ANS 3**"
   ]
  },
  {
   "cell_type": "code",
   "execution_count": 9,
   "metadata": {
    "ExecuteTime": {
     "end_time": "2020-03-10T14:12:02.997849Z",
     "start_time": "2020-03-10T14:12:02.993179Z"
    }
   },
   "outputs": [
    {
     "data": {
      "text/plain": [
       "'This is another sub-heading'"
      ]
     },
     "execution_count": 9,
     "metadata": {},
     "output_type": "execute_result"
    }
   ],
   "source": [
    "soup.find_all('h2')[1].string"
   ]
  },
  {
   "cell_type": "markdown",
   "metadata": {},
   "source": [
    "**ANS 4**"
   ]
  },
  {
   "cell_type": "code",
   "execution_count": 10,
   "metadata": {
    "ExecuteTime": {
     "end_time": "2020-03-10T14:12:28.273210Z",
     "start_time": "2020-03-10T14:12:28.267871Z"
    }
   },
   "outputs": [
    {
     "data": {
      "text/plain": [
       "<div height=\"100\" id=\"main\" width=\"200\">\n",
       "<h1>This is the main title of the webpage</h1>\n",
       "<h2>This is a sub-heading</h2>\n",
       "<p>This is a paragraph of text.</p>\n",
       "</div>"
      ]
     },
     "execution_count": 10,
     "metadata": {},
     "output_type": "execute_result"
    }
   ],
   "source": [
    "soup.find(id='main')"
   ]
  },
  {
   "cell_type": "markdown",
   "metadata": {},
   "source": [
    "> **Ex. 5** Load the HTML you downloaded in Ex. 3. For each post, extract price, square meter size and \"Ejerudgift\". You should create three different lists that contain each variable across posts."
   ]
  },
  {
   "cell_type": "markdown",
   "metadata": {},
   "source": [
    "**ANS**"
   ]
  },
  {
   "cell_type": "code",
   "execution_count": 113,
   "metadata": {
    "ExecuteTime": {
     "end_time": "2020-03-10T14:39:19.942743Z",
     "start_time": "2020-03-10T14:39:18.693348Z"
    }
   },
   "outputs": [],
   "source": [
    "import re\n",
    "\n",
    "# Get html\n",
    "html = rq.get('https://www.boliga.dk/resultat?propertyType=3&zipCodes=2200&page=1').text\n",
    "\n",
    "# Create soup element\n",
    "soup = BeautifulSoup(html)"
   ]
  },
  {
   "cell_type": "code",
   "execution_count": 112,
   "metadata": {
    "ExecuteTime": {
     "end_time": "2020-03-10T14:38:55.909299Z",
     "start_time": "2020-03-10T14:38:55.887457Z"
    }
   },
   "outputs": [],
   "source": [
    "prices = []\n",
    "sizes = []\n",
    "ejerudgifter = []\n",
    "for post in soup.find_all('app-listing-information-lg'):\n",
    "    \n",
    "    # Ejerudgifter\n",
    "    try:\n",
    "        ejerudgift = re.findall(r'Ejerudgift: .+\\xa0 kr\\.', post.text)[0]\n",
    "        ejerudgift = ejerudgift.replace('Ejerudgift: ', '')\n",
    "        ejerudgift = ejerudgift.replace('\\xa0 kr.', '')\n",
    "        ejerudgift = ejerudgift.replace(\".\", '')\n",
    "        ejerudgift = int(ejerudgift)\n",
    "        ejerudgifter.append(ejerudgift)\n",
    "    except IndexError: # If posts don't have this listed we consider them invalid\n",
    "        continue\n",
    "    \n",
    "    # Price\n",
    "    price = re.findall(r\"\\d+?\\.?\\d{3}\\.\\d{3}\\xa0kr\\.\", post.text)[0]\n",
    "    price = price.replace('\\xa0kr.', '')\n",
    "    price = price.replace(\".\", \"\")\n",
    "    price = int(price)\n",
    "    prices.append(price)\n",
    "    \n",
    "    # Size\n",
    "    size = re.findall(r'Boligstørrelse \\d+ m²', post.text)[0]\n",
    "    size = size.replace('Boligstørrelse ', '')\n",
    "    size = size.replace(' m²', '')\n",
    "    size = int(size)\n",
    "    sizes.append(size)"
   ]
  },
  {
   "cell_type": "markdown",
   "metadata": {},
   "source": [
    "> **Ex. 6:** Make a scatter plot of square meter size vs. extracted price. Then make a new variable that \n",
    "measures price per square meter and scatter plot this against \"Ejerudgift\". Can you say anything about how\n",
    "\"Ejerudgift\" influences square meter price?"
   ]
  },
  {
   "cell_type": "markdown",
   "metadata": {},
   "source": [
    "**ANS**"
   ]
  },
  {
   "cell_type": "code",
   "execution_count": 121,
   "metadata": {
    "ExecuteTime": {
     "end_time": "2020-03-10T14:41:56.814255Z",
     "start_time": "2020-03-10T14:41:56.623649Z"
    }
   },
   "outputs": [
    {
     "data": {
      "image/png": "[encoded data removed]",
      "text/plain": [
       "<Figure size 432x288 with 1 Axes>"
      ]
     },
     "metadata": {
      "needs_background": "light"
     },
     "output_type": "display_data"
    }
   ],
   "source": [
    "%matplotlib inline\n",
    "import matplotlib.pylab as plt\n",
    "\n",
    "# Scatter plot size vs price\n",
    "plt.figure(figsize=(6, 4))\n",
    "plt.scatter(sizes, prices)\n",
    "plt.xlabel(\"$m^2$\", fontsize=16)\n",
    "plt.ylabel(\"Price\", fontsize=16)\n",
    "plt.xticks(fontsize=12)\n",
    "plt.yticks(fontsize=12)\n",
    "plt.show()"
   ]
  },
  {
   "cell_type": "code",
   "execution_count": 122,
   "metadata": {
    "ExecuteTime": {
     "end_time": "2020-03-10T14:44:30.414224Z",
     "start_time": "2020-03-10T14:44:30.230190Z"
    }
   },
   "outputs": [
    {
     "data": {
      "image/png": "[encoded data removed]",
      "text/plain": [
       "<Figure size 432x288 with 1 Axes>"
      ]
     },
     "metadata": {
      "needs_background": "light"
     },
     "output_type": "display_data"
    }
   ],
   "source": [
    "# Make new variable\n",
    "price_per_square_meter = [\n",
    "    prices[i] / sizes[i] for i in range(len(prices))\n",
    "]\n",
    "\n",
    "# Scatter plot price vs Ejerudgift\n",
    "plt.figure(figsize=(6, 4))\n",
    "plt.scatter(ejerudgifter, price_per_square_meter)\n",
    "plt.xlabel(\"Ejerudgift\", fontsize=16)\n",
    "plt.ylabel(\"$m^2$ price\", fontsize=16)\n",
    "plt.xticks(fontsize=12)\n",
    "plt.yticks(fontsize=12)\n",
    "plt.show()"
   ]
  },
  {
   "cell_type": "markdown",
   "metadata": {},
   "source": [
    "Doesn't really seem to influence square meter price in this data, but I bet if we had more data we could see a trend!"
   ]
  },
  {
   "cell_type": "markdown",
   "metadata": {},
   "source": [
    "> **Supercharge:** Crawl over pages of Boliga to collect this data for the entire borough of Nørrebro. Or all of Copenhagen!"
   ]
  },
  {
   "cell_type": "markdown",
   "metadata": {},
   "source": [
    "**ANS**"
   ]
  },
  {
   "cell_type": "markdown",
   "metadata": {},
   "source": [
    "Doing it for Copenhagen City"
   ]
  },
  {
   "cell_type": "code",
   "execution_count": 125,
   "metadata": {
    "ExecuteTime": {
     "end_time": "2020-03-10T14:50:05.229998Z",
     "start_time": "2020-03-10T14:49:40.656400Z"
    }
   },
   "outputs": [
    {
     "name": "stderr",
     "output_type": "stream",
     "text": [
      "100%|██████████| 40/40 [00:24<00:00,  1.63it/s]\n"
     ]
    }
   ],
   "source": [
    "from tqdm import tqdm\n",
    "\n",
    "prices = []\n",
    "sizes = []\n",
    "ejerudgifter = []\n",
    "\n",
    "for i in tqdm(range(1, 41)):\n",
    "    \n",
    "    # Get html and create soup object\n",
    "    html = rq.get('https://www.boliga.dk/resultat?propertyType=3&page=2&sort=zipCode-a&area=%d' % i).text\n",
    "    soup = BeautifulSoup(html)\n",
    "\n",
    "    for post in soup.find_all('app-listing-information-lg'):\n",
    "        \n",
    "        # Ejerudgifter\n",
    "        try:\n",
    "            ejerudgift = re.findall(r'Ejerudgift: .+\\xa0 kr\\.', post.text)[0]\n",
    "            ejerudgift = ejerudgift.replace('Ejerudgift: ', '')\n",
    "            ejerudgift = ejerudgift.replace('\\xa0 kr.', '')\n",
    "            ejerudgift = ejerudgift.replace(\".\", '')\n",
    "            ejerudgift = int(ejerudgift)\n",
    "        except IndexError: # If posts don't have this listed we consider them invalid\n",
    "            continue\n",
    "\n",
    "        # Price\n",
    "        try:\n",
    "            price = re.findall(r\"\\d+?\\.?\\d{3}\\.\\d{3}\\xa0kr\\.\", post.text)[0]\n",
    "            price = price.replace('\\xa0kr.', '')\n",
    "            price = price.replace(\".\", \"\")\n",
    "            price = int(price)\n",
    "        except IndexError: # If posts don't have this listed we consider them invalid\n",
    "            continue\n",
    "\n",
    "        # Size\n",
    "        try:\n",
    "            size = re.findall(r'Boligstørrelse \\d+ m²', post.text)[0]\n",
    "            size = size.replace('Boligstørrelse ', '')\n",
    "            size = size.replace(' m²', '')\n",
    "            size = int(size)\n",
    "        except IndexError: # If posts don't have this listed we consider them invalid\n",
    "            continue\n",
    "            \n",
    "        ejerudgifter.append(ejerudgift)\n",
    "        prices.append(price)\n",
    "        sizes.append(size)"
   ]
  },
  {
   "cell_type": "markdown",
   "metadata": {},
   "source": [
    "Visualize"
   ]
  },
  {
   "cell_type": "code",
   "execution_count": 126,
   "metadata": {
    "ExecuteTime": {
     "end_time": "2020-03-10T14:50:09.793905Z",
     "start_time": "2020-03-10T14:50:09.607392Z"
    }
   },
   "outputs": [
    {
     "data": {
      "image/png": "[encoded data removed]",
      "text/plain": [
       "<Figure size 432x288 with 1 Axes>"
      ]
     },
     "metadata": {
      "needs_background": "light"
     },
     "output_type": "display_data"
    }
   ],
   "source": [
    "%matplotlib inline\n",
    "import matplotlib.pylab as plt\n",
    "\n",
    "# Scatter plot size vs price\n",
    "plt.figure(figsize=(6, 4))\n",
    "plt.scatter(sizes, prices)\n",
    "plt.xlabel(\"$m^2$\", fontsize=16)\n",
    "plt.ylabel(\"Price\", fontsize=16)\n",
    "plt.xticks(fontsize=12)\n",
    "plt.yticks(fontsize=12)\n",
    "plt.show()"
   ]
  },
  {
   "cell_type": "code",
   "execution_count": 127,
   "metadata": {
    "ExecuteTime": {
     "end_time": "2020-03-10T14:50:14.447186Z",
     "start_time": "2020-03-10T14:50:14.243373Z"
    }
   },
   "outputs": [
    {
     "data": {
      "image/png": "[encoded data removed]",
      "text/plain": [
       "<Figure size 432x288 with 1 Axes>"
      ]
     },
     "metadata": {
      "needs_background": "light"
     },
     "output_type": "display_data"
    }
   ],
   "source": [
    "# Make new variable\n",
    "price_per_square_meter = [\n",
    "    prices[i] / sizes[i] for i in range(len(prices))\n",
    "]\n",
    "\n",
    "# Scatter plot price vs Ejerudgift\n",
    "plt.figure(figsize=(6, 4))\n",
    "plt.scatter(ejerudgifter, price_per_square_meter)\n",
    "plt.xlabel(\"Ejerudgift\", fontsize=16)\n",
    "plt.ylabel(\"$m^2$ price\", fontsize=16)\n",
    "plt.xticks(fontsize=12)\n",
    "plt.yticks(fontsize=12)\n",
    "plt.show()"
   ]
  }
 ],
 "metadata": {
  "display_name": "Python 3",
  "kernelspec": {
   "display_name": "Python 3",
   "language": "python",
   "name": "python3"
  },
  "language_info": {
   "codemirror_mode": {
    "name": "ipython",
    "version": 3
   },
   "file_extension": ".py",
   "mimetype": "text/x-python",
   "name": "python",
   "nbconvert_exporter": "python",
   "pygments_lexer": "ipython3",
   "version": "3.7.3"
  },
  "toc": {
   "base_numbering": 1,
   "nav_menu": {},
   "number_sections": false,
   "sideBar": true,
   "skip_h1_title": false,
   "title_cell": "Table of Contents",
   "title_sidebar": "Contents",
   "toc_cell": false,
   "toc_position": {},
   "toc_section_display": true,
   "toc_window_display": true
  },
  "varInspector": {
   "cols": {
    "lenName": 16,
    "lenType": 16,
    "lenVar": 40
   },
   "kernels_config": {
    "python": {
     "delete_cmd_postfix": "",
     "delete_cmd_prefix": "del ",
     "library": "var_list.py",
     "varRefreshCmd": "print(var_dic_list())"
    },
    "r": {
     "delete_cmd_postfix": ") ",
     "delete_cmd_prefix": "rm(",
     "library": "var_list.r",
     "varRefreshCmd": "cat(var_dic_list()) "
    }
   },
   "types_to_exclude": [
    "module",
    "function",
    "builtin_function_or_method",
    "instance",
    "_Feature"
   ],
   "window_display": false
  }
 },
 "nbformat": 4,
 "nbformat_minor": 1
}
